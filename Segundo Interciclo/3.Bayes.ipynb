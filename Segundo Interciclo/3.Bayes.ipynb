{
 "cells": [
  {
   "cell_type": "markdown",
   "metadata": {},
   "source": [
    "# <div align=\"center\"> ![Logo](https://www.ups.edu.ec/ups_portal-theme/images/ups/home/logo-ups-home.png)\n",
    "# <div align=\"center\">  Regla de Bayes\n",
    "## Materia:\n",
    "### <div align=\"center\"> Sistemas Expertos\n",
    "## Docentes:\n",
    "### <div align=\"center\"> Ing. Diego Quisi\n",
    "## Ejercicio\n",
    "* Se tiene dos cajas de bolígrafos. La primera contiene 23 bolígrafos azules y 17 rojos, y la segunda contiene 18 azules y 5 rojos. Calcular lo siguiente:\n",
    "    - ¿Cuál es la probabilidad de obtener un bolígrafo azul?\n",
    "    - Si el bolígrafo que se obtuvo es rojo, ¿Cuál es la probabilidad de que haya sido obtenido de la caja 2?\n",
    "    \n",
    "# <div align=\"center\"> ![Logo](https://raw.githubusercontent.com/RicardoVinicioJara/IMG/master/bayes.jpg)\n",
    "    \n",
    "* La policía planea hacer respetar los límites de velocidad usando un sistema de radar en 4 diferentes puntos a las orillas de la ciudad. Las trampas de radar en cada uno de los sitios L1, L2, L3 y L4 operarán 40%, 30 %, 20% y 30% del tiempo. Si una persona que excede el límite de velocidad cuando va a su trabajo tiene probabilidades de 0.2, 0.1, 0.5 y 0.2, respectivamente, de pasar por esos lugares, ¿cuál es la probabilidad de que reciba una multa por conducir con exceso de velocidad?\n",
    "\n",
    "# <div align=\"center\"> ![Logo](https://raw.githubusercontent.com/RicardoVinicioJara/IMG/master/bayes2.jpg)\n",
    "\n",
    "## Pruebas en Calculadoras Oline\n",
    "- http://www.ugr.es/~jsalinas/bayes.htm\n",
    "# <div align=\"center\"> ![Logo](https://raw.githubusercontent.com/RicardoVinicioJara/IMG/master/bayes3.png)\n",
    "- http://stattrek.com/online-calculator/bayes-rule-calculator.aspx¶\n",
    "# <div align=\"center\"> ![Logo](https://raw.githubusercontent.com/RicardoVinicioJara/IMG/master/bayes4.png)\n",
    "## Codigo Python"
   ]
  },
  {
   "cell_type": "code",
   "execution_count": 14,
   "metadata": {},
   "outputs": [
    {
     "name": "stdout",
     "output_type": "stream",
     "text": [
      "ingrese --> P(A) Introduzca un numero decimal \n",
      "> 0.4\n",
      "ingrese --> P(B|A) Introduzca un numero decimal \n",
      "> 0.3\n",
      "ingrese --> P(B|NA) Introduzca un numero decimal \n",
      "> 0.3\n",
      "      __Calculando P(B|A)__      \n",
      "\n",
      " Respuesta es: P(B|A) = 0.4 %\n"
     ]
    }
   ],
   "source": [
    "def CalculadoraBayes(primeroval, segundoval, tercerval):\n",
    "    res =(primeroval+segundoval+tercerval)\n",
    "    if res==1:\n",
    "        valor = 1 - primeroval\n",
    "        oper = (segundoval * primeroval) +(tercerval * valor)\n",
    "        resp = (segundoval * primeroval) / oper\n",
    "        return resp\n",
    "    else:\n",
    "        print(\"Ingrese nuevamente sus datos: La suma de los 3 valores debe dar uno\")\n",
    "        return -10\n",
    "    \n",
    "primeroval = float(input('ingrese --> P(A) Introduzca un numero decimal \\n> '))\n",
    "\n",
    "segundoval = float(input('ingrese --> P(B|A) Introduzca un numero decimal \\n> '))\n",
    "\n",
    "tercerval = float(input('ingrese --> P(B|NA) Introduzca un numero decimal \\n> '))\n",
    "\n",
    "total = CalculadoraBayes(primeroval, segundoval, tercerval)\n",
    "if total != -10 :\n",
    "    print('      __Calculando P(B|A)__      ')\n",
    "    print('\\n Respuesta es: P(B|A) =',(total),\"%\")"
   ]
  }
 ],
 "metadata": {
  "kernelspec": {
   "display_name": "Python 3",
   "language": "python",
   "name": "python3"
  },
  "language_info": {
   "codemirror_mode": {
    "name": "ipython",
    "version": 3
   },
   "file_extension": ".py",
   "mimetype": "text/x-python",
   "name": "python",
   "nbconvert_exporter": "python",
   "pygments_lexer": "ipython3",
   "version": "3.7.6"
  }
 },
 "nbformat": 4,
 "nbformat_minor": 4
}

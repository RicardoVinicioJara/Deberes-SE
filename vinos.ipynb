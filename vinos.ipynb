{
 "cells": [
  {
   "cell_type": "markdown",
   "metadata": {},
   "source": [
    "# <div align=\"center\"> ![Logo](https://www.ups.edu.ec/ups_portal-theme/images/ups/home/logo-ups-home.png)\n",
    "# <div align=\"center\">  Calidad de Vinos\n",
    "## Materia:\n",
    "### <div align=\"center\"> Sistemas Expertos  \n",
    "## Docente:\n",
    "### <div align=\"center\"> Ing. Diego Quisis\n",
    "## Estudiante\n",
    "### <div align=\"center\"> Ricardo Vinicio Jara Jara\n",
    "\n",
    "## <div align=\"center\"> Orden\n",
    "### Implementará un sistema CBR básico para determinar la calidad del vino rojo.\n",
    "#### Para detectar la similitudi usamos la formula de  Jaccard Similarity\n",
    "![Jaccard Similarity](https://neo4j.com/docs/graph-data-science/current/images/jaccard.png)   \n",
    "#### El desarrollo se lo realizara en Python. \n",
    "#### •\tCálculo del método.  El medo lee los datos brindados de winequality-red.scv y calcula la similitud de acuerdo a la forma y a los datos de parametros, que son el nuevo vieno.\n",
    "\n"
   ]
  },
  {
   "cell_type": "code",
   "execution_count": null,
   "metadata": {},
   "outputs": [],
   "source": [
    "def similitudJaccard(valores_vino):\n",
    "\n",
    "    def similitud(calidad, set_valores_vino):\n",
    "        return {\n",
    "            'calidad': calidad,\n",
    "            'similitud': len(set_valores_vino.intersection(valores_vino)) / len(set_valores_vino.union(valores_vino))\n",
    "        }\n",
    "\n",
    "    list = []\n",
    "    with open(\"winequality-red.csv\", \"r\") as f:\n",
    "        valores_vino_data = f.readline()\n",
    "        while valores_vino_data:\n",
    "            valores_vino_data = f.readline()\n",
    "            propiedades_vino = valores_vino_data.split(\";\")\n",
    "            calidad = propiedades_vino[-1:][0].replace(\"\\n\", \"\")\n",
    "            list.append(similitud(calidad, set(map(float, propiedades_vino[:-1]))))\n",
    "    return sorted(list, key=lambda item: item['similitud'], reverse=True)\n"
   ]
  },
  {
   "cell_type": "markdown",
   "metadata": {},
   "source": [
    "#### •\t Interfaz usando Flask\n"
   ]
  },
  {
   "cell_type": "code",
   "execution_count": null,
   "metadata": {},
   "outputs": [],
   "source": [
    "@app.route('/calcular', methods=['POST'])\n",
    "def calcular_calidad():\n",
    "    valores_vino = list(map(float, request.form.values()))\n",
    "    return render_template(\"index.html\", valores=valores_vino, lista=similitudJaccard(valores_vino))\n",
    "\n",
    "\n",
    "@app.route('/')\n",
    "def index():\n",
    "    return render_template(\"index.html\")\n",
    "\n",
    "\n",
    "if __name__ == '__main__':\n",
    "    app.debug = True\n",
    "    app.run()\n"
   ]
  },
  {
   "cell_type": "markdown",
   "metadata": {},
   "source": [
    "#### •\t Templete Index\n",
    "![resolucion_ejercicio2](https://raw.githubusercontent.com/RicardoVinicioJara/IMG/master/templeIndex.png) \n",
    "\n",
    "#### •\t Hacemos el ingreso de un nuevo vino y vemos su similitud\n",
    "![resolucion_ejercicio2](https://raw.githubusercontent.com/RicardoVinicioJara/IMG/master/templeRespuesta.png) \n",
    "\n",
    "###  •\tConclusión \n",
    "#### Para hacer el cálculo de una similitud a fuera del método  Jaccard Similarity tambiem podríamos usar Cosine Similarity y/o Euclidean; Pero es importante recordar que debemos tener una base para hacer las comparaciones. Como fue en esta caso el uso del csv. \n",
    "\n",
    "## Nota: Si necesita acceder al codigo en python: [**https://github.com/RicardoVinicioJara/Vinos**](https://github.com/RicardoVinicioJara/Vinos)\n"
   ]
  }
 ],
 "metadata": {
  "kernelspec": {
   "display_name": "Python 3",
   "language": "python",
   "name": "python3"
  },
  "language_info": {
   "codemirror_mode": {
    "name": "ipython",
    "version": 3
   },
   "file_extension": ".py",
   "mimetype": "text/x-python",
   "name": "python",
   "nbconvert_exporter": "python",
   "pygments_lexer": "ipython3",
   "version": "3.7.6"
  }
 },
 "nbformat": 4,
 "nbformat_minor": 4
}
